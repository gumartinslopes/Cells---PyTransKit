{
 "cells": [
  {
   "cell_type": "markdown",
   "metadata": {},
   "source": [
    "# Radon-Cumulative Distribution Transform Nearest Subspace (RCDT-NS) Classifier\n",
    "\n",
    "This tutorial will demonstrate how to use the RCDT-NS classifier in the *PyTransKit* package."
   ]
  },
  {
   "cell_type": "markdown",
   "metadata": {},
   "source": [
    "## Class:: RCDT_NS\n",
    "**Functions**:\n",
    "\n",
    "1. Constructor function:\n",
    "        rcdt_ns_obj = RCDT_NS(num_classes, thetas, rm_edge)\n",
    "        \n",
    "        Inputs:\n",
    "        ----------------\n",
    "        num_classes : integer value\n",
    "            totale number of classes in the dataset.\n",
    "        thetas : 1d array\n",
    "            angles in degrees for taking radon projections. Example: thetas=numpy.linspace(0,180,45)\n",
    "        rm_edge : boolean \n",
    "            IF TRUE the first and last points of RCDTs will be removed.\n",
    "            \n",
    "        Outputs:\n",
    "        ----------------\n",
    "        rcdt_ns_obj : class object\n",
    "            Instance of the class RCDT_NS.\n",
    "            \n",
    "2. Fit function:\n",
    "        rcdt_ns_obj.fit(Xtrain, Ytrain, no_deform_model)\n",
    "        \n",
    "        Inputs:\n",
    "        ----------------\n",
    "        Xtrain : 3d array, shape (n_samples, n_rows, n_columns)\n",
    "            Image data for training.\n",
    "        Ytrain : 1d array, shape (n_samples,)\n",
    "            Labels of the training images.\n",
    "        no_deform_model : boolean\n",
    "            IF TRUE, no deformation model will be added\n",
    "  \n",
    "3. Predict function:\n",
    "        preds = rcdt_ns_obj.predict(Xtest, use_gpu)\n",
    "        \n",
    "        Inputs:\n",
    "        ----------------\n",
    "        Xtest : 3d array, shape (n_samples, n_rows, n_columns)\n",
    "            Image data for testing.\n",
    "        use_gpu : boolean \n",
    "            IF TRUE, use gpu for calculations.\n",
    "            \n",
    "        Outputs:\n",
    "        ----------------\n",
    "        preds : 1d array, shape (n_samples,)\n",
    "           Predicted labels for test samples.\n",
    "    "
   ]
  },
  {
   "cell_type": "markdown",
   "metadata": {},
   "source": [
    "## Example\n",
    "The following example will demonstrate how to:\n",
    "* create and initialize an instance of the class RCDT_NS\n",
    "* train the model with training images\n",
    "* apply the model to predict calss labels of the test images\n",
    "In this example we have used MNIST dataset stored in the *data* folder"
   ]
  },
  {
   "cell_type": "markdown",
   "metadata": {},
   "source": [
    "### Import some python libraries"
   ]
  },
  {
   "cell_type": "code",
   "execution_count": 1,
   "metadata": {},
   "outputs": [],
   "source": [
    "import numpy as np\n",
    "from sklearn.metrics import accuracy_score\n",
    "from pathlib import Path\n",
    "import sys\n",
    "sys.path.append('../')\n",
    "from pytranskit.classification.utils import *\n",
    "\n",
    "use_gpu = False"
   ]
  },
  {
   "cell_type": "markdown",
   "metadata": {},
   "source": [
    "### Import RCDT-NS class from *PyTransKit* package"
   ]
  },
  {
   "cell_type": "code",
   "execution_count": 2,
   "metadata": {},
   "outputs": [],
   "source": [
    "# -*- coding: utf-8 -*-\n",
    "\"\"\"\n",
    "Created on Tue Jan 17 14:41:20 2023\n",
    "\n",
    "@author: Naqib Sad Pathan\n",
    "\n",
    "Reference\n",
    "\n",
    "Gong, L., Li, S., Pathan, N. S., Rohde, G. K., Rubaiyat, A. H. M., & Thareja, S. (2023). \n",
    "\"The Radon Signed Cumulative Distribution Transform and its applications in classification of Signed Images.\"\n",
    "arXiv preprint arXiv:2307.15339.\n",
    "\"\"\"\n",
    "\n",
    "import numpy as np\n",
    "import numpy.linalg as LA\n",
    "import multiprocessing as mp\n",
    "\n",
    "from pytranskit.optrans.continuous.radonscdt import RadonSCDT\n",
    "\n",
    "eps = 1e-6\n",
    "x0_range = [0, 1]\n",
    "x_range = [0, 1]\n",
    "Rdown = 1  # downsample radon projections (w.r.t. angles)\n",
    "theta = np.linspace(0, 176, 45// Rdown)\n",
    "\n",
    "class RSCDT_NS:\n",
    "    def __init__(self, num_classes, thetas=theta, rm_edge=False):\n",
    "        \"\"\"\n",
    "        Parameters\n",
    "        ----------\n",
    "        num_classes : integer, total number of classes\n",
    "        thetas : array-like, angles in degrees for taking radon projections\n",
    "            default = [0,180) with increment of 4 degrees.\n",
    "        rm_edge : boolean flag; IF TRUE the first and last points of RSCDTs will be removed\n",
    "            default = False\n",
    "        \"\"\"\n",
    "        self.num_classes = num_classes\n",
    "        self.thetas = thetas\n",
    "        self.rm_edge = rm_edge\n",
    "        self.subspaces = []\n",
    "        self.len_subspace = 0\n",
    "\n",
    "    def fit(self, Xtrain, Ytrain, no_deform_model=True):\n",
    "        \"\"\"Fit linear model.\n",
    "        \n",
    "        Parameters\n",
    "        ----------\n",
    "        Xtrain : array-like, shape (n_samples, n_rows, n_columns)\n",
    "            Image data for training.\n",
    "        Ytrain : ndarray of shape (n_samples,)\n",
    "            Labels of the training images.\n",
    "        no_deform_model : boolean flag; IF TRUE, no deformation model will be added\n",
    "            default = False.\n",
    "        \"\"\"\n",
    "        \n",
    "        # calculate the RSCDT using parallel CPUs\n",
    "        print('\\nCalculating RSCDTs for training images ...')\n",
    "        Xrscdt = self.rscdt_parallel(Xtrain)\n",
    "        # generate the basis vectors for each class\n",
    "        print('Generating basis vectors for each class ...')\n",
    "        for class_idx in range(self.num_classes):\n",
    "            class_data = Xrscdt[Ytrain == class_idx]\n",
    "            if no_deform_model:\n",
    "                flat = class_data.reshape(class_data.shape[0], -1)\n",
    "            else:\n",
    "                class_data_trans = self.add_trans_samples(class_data)\n",
    "                flat = class_data_trans.reshape(class_data_trans.shape[0], -1)\n",
    "            u, s, vh = LA.svd(flat,full_matrices=False)\n",
    "\n",
    "            cum_s = np.cumsum(s)\n",
    "            cum_s = cum_s/np.max(cum_s)\n",
    "\n",
    "            max_basis = (np.where(cum_s>=0.99)[0])[0] + 1\n",
    "            \n",
    "            if max_basis > self.len_subspace:\n",
    "                self.len_subspace = max_basis\n",
    "            \n",
    "            basis = vh[:flat.shape[0]]\n",
    "            self.subspaces.append(basis)\n",
    "\n",
    "\n",
    "    def predict(self, Xtest, use_gpu=False):\n",
    "        \"\"\"Predict using the linear model\n",
    "        \n",
    "        Let :math:`B^k` be the basis vectors of class :math:`k`, and :math:`x` be the RSCDT sapce feature vector of an input, \n",
    "        the NS method performs classification by\n",
    "        \n",
    "        .. math::\n",
    "            arg\\min_k \\| B^k (B^k)^T x - x\\|^2\n",
    "        \n",
    "        Parameters\n",
    "        ----------\n",
    "        Xtest : array-like, shape (n_samples, n_rows, n_columns)\n",
    "            Image data for testing.\n",
    "        use_gpu: boolean flag; IF TRUE, use gpu for calculations\n",
    "            default = False.\n",
    "            \n",
    "        Returns\n",
    "        -------\n",
    "        ndarray of shape (n_samples,)\n",
    "           Predicted target values per element in Xtest.\n",
    "           \n",
    "        \"\"\"\n",
    "        \n",
    "        # calculate the RSCDT using parallel CPUs\n",
    "        print('\\nCalculating RSCDTs for testing images ...')\n",
    "        Xrscdt = self.rscdt_parallel(Xtest)\n",
    "        \n",
    "        # vectorize RSCDT matrix\n",
    "        X = Xrscdt.reshape([Xrscdt.shape[0], -1])\n",
    "        \n",
    "        # import cupy for using GPU\n",
    "        if use_gpu:\n",
    "            import cupy as cp\n",
    "            X = cp.array(X)\n",
    "        \n",
    "        # find nearest subspace for each test sample\n",
    "        print('Finding nearest subspace for each test sample ...')\n",
    "        D = []\n",
    "        for class_idx in range(self.num_classes):\n",
    "            basis = self.subspaces[class_idx]\n",
    "            basis = basis[:self.len_subspace,:]\n",
    "            \n",
    "            if use_gpu:\n",
    "                D.append(cp.linalg.norm(cp.matmul(cp.matmul(X, cp.array(basis).T), \n",
    "                                                  cp.array(basis)) -X, axis=1))\n",
    "            else:\n",
    "                proj = X @ basis.T  # (n_samples, n_basis)\n",
    "                projR = proj @ basis  # (n_samples, n_features)\n",
    "                D.append(LA.norm(projR - X, axis=1))\n",
    "        if use_gpu:\n",
    "            preds = cp.argmin(cp.stack(D, axis=0), axis=0)\n",
    "            return cp.asnumpy(preds)\n",
    "        else:\n",
    "            D = np.stack(D, axis=0)\n",
    "            preds = np.argmin(D, axis=0)\n",
    "            return preds\n",
    "\n",
    "\n",
    "    def fun_rscdt_single(self, I0):\n",
    "        # I: (rows, columns)\n",
    "        #radonscdt = RadonSCDT(self.thetas)\n",
    "        #Ihat,mpos,mneg= radonscdt.forward(I0)\n",
    "        x0_range=[0,1]\n",
    "        x_range=[0,1]\n",
    "        template=np.ones_like(I0)\n",
    "        RSCDT=RadonSCDT()\n",
    "        Ihat,ref,mpos_all,mneg_all,rad1=RSCDT.forward( x0_range, template, x_range, I0, rm_edge=False)\n",
    "        return Ihat\n",
    "    \n",
    "    def fun_rscdt_batch(self, data):\n",
    "        # data: (n_samples, rows, columns)\n",
    "        dataRSCDT = [self.fun_rscdt_single(data[j, :, :] + eps) for j in range(data.shape[0])]\n",
    "        return np.array(dataRSCDT)\n",
    "    \n",
    "    def rscdt_parallel(self, X):\n",
    "        rscdt_features = self.fun_rscdt_batch(X)\n",
    "        return rscdt_features\n",
    "        \n",
    "    def add_trans_samples(self, rscdt_features):\n",
    "        # rscdt_features: (n_samples, proj_len, num_angles)\n",
    "        # deformation vectors for  translation\n",
    "        v1, v2 = np.cos(self.thetas*np.pi/180), np.sin(self.thetas*np.pi/180)\n",
    "        v1 = np.repeat(v1[np.newaxis], rscdt_features.shape[1], axis=0)\n",
    "        v2 = np.repeat(v2[np.newaxis], rscdt_features.shape[1], axis=0)\n",
    "        return np.concatenate([rscdt_features, v1[np.newaxis], v2[np.newaxis]])\n"
   ]
  },
  {
   "cell_type": "code",
   "execution_count": 3,
   "metadata": {},
   "outputs": [],
   "source": [
    "#from my_classification.rcdt_ns import MY_RDCT_NS"
   ]
  },
  {
   "cell_type": "markdown",
   "metadata": {},
   "source": [
    "### Load dataset\n",
    "For loading data we have used *load_data* function from the *pytranskit/classifier/utils.py* script. It takes name and directory of the dataset, and total number of classes as input. Returns both train and test images in two separate 3d arrays of shape (n_samples, n_rows, n_columns), and corresponding class labels. User can use there own implementation to load data, just need to make sure that the output arrays are consistent."
   ]
  },
  {
   "cell_type": "code",
   "execution_count": 4,
   "metadata": {},
   "outputs": [
    {
     "name": "stdout",
     "output_type": "stream",
     "text": [
      "loaded from cache file data: x_train (60000, 28, 28) x_test (10000, 28, 28)\n"
     ]
    }
   ],
   "source": [
    "datadir = '../docs/source/tutorials/data'\n",
    "dataset = 'MNIST'\n",
    "num_classes = 10          # total number of classes in the dataset\n",
    "(x_train, y_train), (x_test, y_test) = load_data(dataset, num_classes, datadir)  # load_data function from utils.py"
   ]
  },
  {
   "cell_type": "markdown",
   "metadata": {},
   "source": [
    "In this example we have used 512 randomly chosen samples per class to train the model. We have used another function *take_train_samples* function from *utils.py* script for this. User can use their own script."
   ]
  },
  {
   "cell_type": "code",
   "execution_count": 5,
   "metadata": {},
   "outputs": [],
   "source": [
    "n_samples_perclass = 512  # total number of training samples per class used in this example\n",
    "x_train_sub, y_train_sub = take_train_samples(x_train, y_train, n_samples_perclass, \n",
    "                                              num_classes, repeat=0) # function from utils.py"
   ]
  },
  {
   "cell_type": "markdown",
   "metadata": {},
   "source": [
    "### Create an instance of RCDT_NS class"
   ]
  },
  {
   "cell_type": "code",
   "execution_count": 6,
   "metadata": {},
   "outputs": [
    {
     "ename": "NameError",
     "evalue": "name 'MY_RDCT_NS' is not defined",
     "output_type": "error",
     "traceback": [
      "\u001b[0;31m---------------------------------------------------------------------------\u001b[0m",
      "\u001b[0;31mNameError\u001b[0m                                 Traceback (most recent call last)",
      "Cell \u001b[0;32mIn[6], line 2\u001b[0m\n\u001b[1;32m      1\u001b[0m theta \u001b[38;5;241m=\u001b[39m np\u001b[38;5;241m.\u001b[39mlinspace(\u001b[38;5;241m0\u001b[39m, \u001b[38;5;241m176\u001b[39m, \u001b[38;5;241m45\u001b[39m)    \u001b[38;5;66;03m# choose the angles in degrees that will be used to calculate Radon projections\u001b[39;00m\n\u001b[0;32m----> 2\u001b[0m rcdt_ns_obj \u001b[38;5;241m=\u001b[39m \u001b[43mMY_RDCT_NS\u001b[49m(num_classes, theta, rm_edge\u001b[38;5;241m=\u001b[39m\u001b[38;5;28;01mTrue\u001b[39;00m)\n",
      "\u001b[0;31mNameError\u001b[0m: name 'MY_RDCT_NS' is not defined"
     ]
    }
   ],
   "source": [
    "theta = np.linspace(0, 176, 45)    # choose the angles in degrees that will be used to calculate Radon projections\n",
    "rcdt_ns_obj = MY_RDCT_NS(num_classes, theta, rm_edge=True)"
   ]
  },
  {
   "cell_type": "markdown",
   "metadata": {},
   "source": [
    "### Training phase\n",
    "This function takes the train samples and labels as input, and stores the basis vectors for corresponding classes in a *private* variable. This variable will be used in the *predict* function in the test phase"
   ]
  },
  {
   "cell_type": "code",
   "execution_count": null,
   "metadata": {},
   "outputs": [
    {
     "name": "stdout",
     "output_type": "stream",
     "text": [
      "MEU FIT\n",
      "\n",
      "Calculating RCDTs for training images ...\n",
      "Generating basis vectors for each class ...\n"
     ]
    },
    {
     "ename": "IndexError",
     "evalue": "boolean index did not match indexed array along dimension 1; dimension is 38 but corresponding boolean dimension is 28",
     "output_type": "error",
     "traceback": [
      "\u001b[0;31m---------------------------------------------------------------------------\u001b[0m",
      "\u001b[0;31mIndexError\u001b[0m                                Traceback (most recent call last)",
      "Cell \u001b[0;32mIn[26], line 1\u001b[0m\n\u001b[0;32m----> 1\u001b[0m \u001b[43mrcdt_ns_obj\u001b[49m\u001b[38;5;241;43m.\u001b[39;49m\u001b[43mfit2\u001b[49m\u001b[43m(\u001b[49m\u001b[43mx_train_sub\u001b[49m\u001b[43m,\u001b[49m\u001b[43m \u001b[49m\u001b[43mx_train_sub\u001b[49m\u001b[43m)\u001b[49m\n",
      "Cell \u001b[0;32mIn[20], line 52\u001b[0m, in \u001b[0;36mMY_RDCT_NS.fit2\u001b[0;34m(self, Xtrain, Ytrain, no_deform_model)\u001b[0m\n\u001b[1;32m     50\u001b[0m \u001b[38;5;28mprint\u001b[39m(\u001b[38;5;124m'\u001b[39m\u001b[38;5;124mGenerating basis vectors for each class ...\u001b[39m\u001b[38;5;124m'\u001b[39m)\n\u001b[1;32m     51\u001b[0m \u001b[38;5;28;01mfor\u001b[39;00m class_idx \u001b[38;5;129;01min\u001b[39;00m \u001b[38;5;28mrange\u001b[39m(\u001b[38;5;28mself\u001b[39m\u001b[38;5;241m.\u001b[39mnum_classes):\n\u001b[0;32m---> 52\u001b[0m     class_data \u001b[38;5;241m=\u001b[39m \u001b[43mXrcdt\u001b[49m\u001b[43m[\u001b[49m\u001b[43mYtrain\u001b[49m\u001b[43m[\u001b[49m\u001b[43m:\u001b[49m\u001b[43m,\u001b[49m\u001b[43m \u001b[49m\u001b[43mclass_idx\u001b[49m\u001b[43m]\u001b[49m\u001b[43m \u001b[49m\u001b[38;5;241;43m==\u001b[39;49m\u001b[43m \u001b[49m\u001b[38;5;241;43m1\u001b[39;49m\u001b[43m]\u001b[49m  \u001b[38;5;66;03m# Assume one-hot encoding\u001b[39;00m\n\u001b[1;32m     53\u001b[0m     \u001b[38;5;28;01mif\u001b[39;00m no_deform_model:\n\u001b[1;32m     54\u001b[0m         flat \u001b[38;5;241m=\u001b[39m class_data\u001b[38;5;241m.\u001b[39mreshape(class_data\u001b[38;5;241m.\u001b[39mshape[\u001b[38;5;241m0\u001b[39m], \u001b[38;5;241m-\u001b[39m\u001b[38;5;241m1\u001b[39m)\n",
      "\u001b[0;31mIndexError\u001b[0m: boolean index did not match indexed array along dimension 1; dimension is 38 but corresponding boolean dimension is 28"
     ]
    }
   ],
   "source": [
    "rcdt_ns_obj.fit2(x_train_sub, x_train_sub)"
   ]
  },
  {
   "cell_type": "markdown",
   "metadata": {},
   "source": [
    "### Testing phase\n",
    "*predict* function takes the train samples as input and returns the predicted class labels"
   ]
  },
  {
   "cell_type": "code",
   "execution_count": null,
   "metadata": {},
   "outputs": [],
   "source": [
    "#preds = rcdt_ns_obj.predict(x_test, use_gpu)"
   ]
  },
  {
   "cell_type": "code",
   "execution_count": null,
   "metadata": {},
   "outputs": [],
   "source": [
    "#print('\\nTest accuracy: {}%'.format(100*accuracy_score(x_test, preds)))"
   ]
  },
  {
   "cell_type": "code",
   "execution_count": null,
   "metadata": {},
   "outputs": [],
   "source": []
  }
 ],
 "metadata": {
  "kernelspec": {
   "display_name": "Python 3",
   "language": "python",
   "name": "python3"
  },
  "language_info": {
   "codemirror_mode": {
    "name": "ipython",
    "version": 3
   },
   "file_extension": ".py",
   "mimetype": "text/x-python",
   "name": "python",
   "nbconvert_exporter": "python",
   "pygments_lexer": "ipython3",
   "version": "3.10.12"
  }
 },
 "nbformat": 4,
 "nbformat_minor": 2
}
